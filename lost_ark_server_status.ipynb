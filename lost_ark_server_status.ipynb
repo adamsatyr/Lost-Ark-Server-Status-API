{
 "cells": [
  {
   "cell_type": "code",
   "execution_count": 1,
   "metadata": {},
   "outputs": [],
   "source": [
    "import requests\n",
    "from bs4 import BeautifulSoup\n",
    "from tabulate import tabulate\n",
    "import pandas as pd"
   ]
  },
  {
   "cell_type": "code",
   "execution_count": 10,
   "metadata": {},
   "outputs": [],
   "source": [
    "url = 'https://www.playlostark.com/en-gb/support/server-status'\n",
    "page = requests.get(url)\n",
    "soup = BeautifulSoup(page.content, 'html.parser')\n",
    "region = 2 # 0 : WEST NORTH AMERICA, 1 : EAST NORTH AMERICA, 2 : CENTRAL EUROPE, 3 : SOUTH AMERICA"
   ]
  },
  {
   "cell_type": "code",
   "execution_count": 9,
   "metadata": {},
   "outputs": [
    {
     "name": "stdout",
     "output_type": "stream",
     "text": [
      "       Server Status\n",
      "1      Agaton   good\n",
      "2      Gienah   good\n",
      "3    Arcturus   good\n",
      "4        Yorn   good\n",
      "5      Feiton   good\n",
      "6        Vern   good\n",
      "7      Kurzan   good\n",
      "8  Prideholme   good\n",
      "0     Kazeros   busy\n"
     ]
    }
   ],
   "source": [
    "servers_soup = soup.find_all(\"div\", {\"data-index\" : region})[0].find_all('div', {'class' : \"ags-ServerStatus-content-responses-response-server\"})\n",
    "\n",
    "servers_clean = []\n",
    "\n",
    "for item in servers_soup:\n",
    "    # print('_-_-_-_-_-_-_-_-_-_-_-_-_-_-_-_-_-_-_-_-_-_-_-_-_-_-_-_-_-')\n",
    "    name = item.find(\"div\", {'class':\"ags-ServerStatus-content-responses-response-server-name\"}).get_text().strip()\n",
    "    status = str(item).split('\\n')[2].split('--')[1][:-2]\n",
    "    # print('Server name:', name)\n",
    "    # print('Status:', status)\n",
    "    servers_clean.append([name, status])\n",
    "\n",
    "df = pd.DataFrame(servers_clean, columns= ['Server', 'Status'])\n",
    "\n",
    "\n",
    "print(df.sort_values(by=['Status'], ascending=False))"
   ]
  },
  {
   "cell_type": "code",
   "execution_count": null,
   "metadata": {},
   "outputs": [],
   "source": []
  }
 ],
 "metadata": {
  "interpreter": {
   "hash": "7b4b4feff2f24a0f0a34464dbe537a36fda679851528fb8735cb41fa49dffb2d"
  },
  "kernelspec": {
   "display_name": "Python 3.9.7 ('base')",
   "language": "python",
   "name": "python3"
  },
  "language_info": {
   "codemirror_mode": {
    "name": "ipython",
    "version": 3
   },
   "file_extension": ".py",
   "mimetype": "text/x-python",
   "name": "python",
   "nbconvert_exporter": "python",
   "pygments_lexer": "ipython3",
   "version": "3.9.7"
  },
  "orig_nbformat": 4
 },
 "nbformat": 4,
 "nbformat_minor": 2
}
